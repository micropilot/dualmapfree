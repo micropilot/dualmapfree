{
 "cells": [
  {
   "cell_type": "code",
   "execution_count": 17,
   "metadata": {},
   "outputs": [],
   "source": [
    "from PIL import Image\n",
    "import requests\n",
    "import bitsandbytes\n",
    "import multiprocessing as mp\n",
    "from tqdm import tqdm\n",
    "import glob\n",
    "import os\n",
    "from transformers import (\n",
    "    AutoProcessor,\n",
    "    LlavaConfig,\n",
    "    LlavaForConditionalGeneration,\n",
    "    is_torch_available,\n",
    "    is_vision_available,\n",
    ")\n",
    "from transformers.testing_utils import require_bitsandbytes, require_torch, slow, torch_device\n"
   ]
  },
  {
   "cell_type": "code",
   "execution_count": 2,
   "metadata": {},
   "outputs": [
    {
     "name": "stderr",
     "output_type": "stream",
     "text": [
      "The `load_in_4bit` and `load_in_8bit` arguments are deprecated and will be removed in the future versions. Please, pass a `BitsAndBytesConfig` object in `quantization_config` argument instead.\n",
      "/home/hitesh/anaconda3/envs/caption/lib/python3.8/site-packages/transformers/models/llava/configuration_llava.py:100: FutureWarning: The `vocab_size` argument is deprecated and will be removed in v4.42, since it can be inferred from the `text_config`. Passing this argument has no effect\n",
      "  warnings.warn(\n",
      "`low_cpu_mem_usage` was None, now set to True since model is quantized.\n",
      "Loading checkpoint shards: 100%|████████████████████████████████████████████████████████████████████████████████████████████████| 3/3 [00:02<00:00,  1.15it/s]\n",
      "Special tokens have been added in the vocabulary, make sure the associated word embeddings are fine-tuned or trained.\n"
     ]
    }
   ],
   "source": [
    "model_id = \"llava-hf/llava-1.5-7b-hf\"\n",
    "model = LlavaForConditionalGeneration.from_pretrained(\"llava-hf/llava-1.5-7b-hf\", load_in_4bit=True)\n",
    "processor = AutoProcessor.from_pretrained(model_id, pad_token=\"<pad>\")"
   ]
  },
  {
   "cell_type": "code",
   "execution_count": 3,
   "metadata": {},
   "outputs": [
    {
     "name": "stderr",
     "output_type": "stream",
     "text": [
      "58it [00:12,  4.67it/s]                                                                                                                                       \n"
     ]
    }
   ],
   "source": [
    "def chunks(lst, n):\n",
    "    for i in range(0, len(lst), n):\n",
    "        yield lst[i:i + n]\n",
    "\n",
    "def open_image(path):\n",
    "    try:\n",
    "        return Image.open(path), path\n",
    "    except Exception as e:\n",
    "        print(f\"Error opening image {path}: {e}\")\n",
    "        return None\n",
    "\n",
    "image_paths = glob.glob('/mnt/SSD1/Niantic/data/test/s00525/seq1/*.jpg')\n",
    "\n",
    "batch_size = 10\n",
    "all_images = []\n",
    "for image_batch in tqdm(chunks(image_paths, batch_size), total=len(image_paths)//batch_size):\n",
    "    with mp.Pool(mp.cpu_count()) as pool:\n",
    "        images = pool.map(open_image, image_batch)\n",
    "    images = [img for img in images if img is not None]\n",
    "    all_images.append(images)\n"
   ]
  },
  {
   "cell_type": "code",
   "execution_count": 5,
   "metadata": {},
   "outputs": [
    {
     "data": {
      "text/plain": [
       "58"
      ]
     },
     "execution_count": 5,
     "metadata": {},
     "output_type": "execute_result"
    }
   ],
   "source": [
    "len(all_images)"
   ]
  },
  {
   "cell_type": "code",
   "execution_count": 11,
   "metadata": {},
   "outputs": [],
   "source": [
    "for image_batch_tuple in all_images[:1]:    \n",
    "    prompts = [\n",
    "                \"USER: <image>\\Write a descriptive caption for the image, highlighting the visible elements and key features.\\nASSISTANT:\",\n",
    "            ] * len(image_batch_tuple)\n",
    "    images = [image_tuple[0] for image_tuple in image_batch_tuple]\n",
    "    inputs = processor(prompts, images, return_tensors=\"pt\", padding=True)\n",
    "    output = model.generate(**inputs, max_new_tokens=1024)\n",
    "    caption_batch = processor.batch_decode(output, skip_special_tokens=True)\n",
    "    "
   ]
  },
  {
   "cell_type": "code",
   "execution_count": 21,
   "metadata": {},
   "outputs": [],
   "source": [
    "caption_path = [image_tuple[1].replace(\"data\", \"caption\").rsplit(\".\", 1)[0] + \".txt\" for image_tuple in image_batch_tuple]\n",
    "for i ,caption in enumerate(caption_batch):\n",
    "    os.makedirs(os.path.dirname(caption_path[i]), exist_ok=True)\n",
    "    with open(caption_path[i], \"w\") as f:\n",
    "        f.write(caption.split(\"\\nASSISTANT: \")[-1])"
   ]
  },
  {
   "cell_type": "code",
   "execution_count": 10,
   "metadata": {},
   "outputs": [
    {
     "data": {
      "text/plain": [
       "['USER:  \\\\Write a descriptive caption for the image, highlighting the visible elements and key features.\\nASSISTANT: A large gray stone sculpture is situated in a lush green garden, surrounded by bushes and trees. The sculpture is positioned in the middle of the garden, drawing attention to its artistic design. The garden is filled with various vehicles, including cars and trucks, parked around the area. The combination of the sculpture and the parked vehicles creates a unique and visually interesting scene.',\n",
       " 'USER:  \\\\Write a descriptive caption for the image, highlighting the visible elements and key features.\\nASSISTANT: The image features a large stone sculpture in the middle of a lush green garden. The sculpture is situated in the center of the scene, surrounded by a variety of green plants. The garden is filled with numerous cars parked around it, indicating that it might be a popular spot for visitors. The combination of the stone sculpture and the vibrant garden creates a serene and picturesque atmosphere.',\n",
       " 'USER:  \\\\Write a descriptive caption for the image, highlighting the visible elements and key features.\\nASSISTANT: A large stone sculpture is situated in a lush green garden, surrounded by bushes and trees. The sculpture is positioned in the middle of the garden, and it appears to be a focal point for the area. The garden is filled with various vehicles, including cars and a truck, parked around the sculpture. The scene suggests a busy and bustling environment, with the sculpture serving as a point of interest amidst the hustle and bustle.',\n",
       " 'USER:  \\\\Write a descriptive caption for the image, highlighting the visible elements and key features.\\nASSISTANT: The image features a large stone sculpture in the middle of a lush green field. The sculpture is surrounded by a variety of vehicles, including cars and trucks, parked in the vicinity. There are also several people scattered around the area, possibly admiring the artwork or attending to their vehicles. The scene captures a mix of nature and human activity, with the stone sculpture serving as a focal point amidst the bustling environment.',\n",
       " 'USER:  \\\\Write a descriptive caption for the image, highlighting the visible elements and key features.\\nASSISTANT: A large stone sculpture is situated in a garden, surrounded by green bushes and trees. The sculpture is positioned in the middle of the garden, and it appears to be a focal point for the area. The garden is filled with various vehicles, including cars and trucks, parked around the sculpture. The scene suggests a busy and lively environment, with the sculpture serving as a point of interest for visitors.',\n",
       " 'USER:  \\\\Write a descriptive caption for the image, highlighting the visible elements and key features.\\nASSISTANT: The image features a large stone sculpture in the middle of a lush green field. The sculpture is surrounded by a variety of vehicles, including cars and trucks, parked in the vicinity. There are also several people scattered around the area, possibly admiring the artwork or attending to their vehicles. The scene captures a mix of nature and human activity, creating a unique atmosphere.',\n",
       " 'USER:  \\\\Write a descriptive caption for the image, highlighting the visible elements and key features.\\nASSISTANT: A large stone sculpture is situated in a grassy area, surrounded by bushes and trees. The sculpture is positioned in the middle of the scene, with a variety of vehicles parked in the background, including cars and trucks. The presence of the stone sculpture and the parked vehicles create a contrast between the natural environment and the man-made elements.',\n",
       " 'USER:  \\\\Write a descriptive caption for the image, highlighting the visible elements and key features.\\nASSISTANT: A large gray stone is situated in the middle of a lush green garden. The stone is surrounded by green bushes and trees, creating a serene and peaceful atmosphere. The garden is located near a parking lot, where several cars are parked, indicating that the area is accessible to visitors. The combination of the natural landscape and the nearby parking lot suggests that this garden is a popular destination for people to relax and enjoy the outdoors.',\n",
       " 'USER:  \\\\Write a descriptive caption for the image, highlighting the visible elements and key features.\\nASSISTANT: A large stone sculpture is situated in a lush green garden, surrounded by a variety of trees and bushes. The sculpture is positioned in the center of the garden, drawing attention to its artistic design. The garden is filled with a diverse range of vehicles, including cars, trucks, and a bus, parked around the area. The presence of these vehicles suggests that the garden is located near a busy street or parking area.',\n",
       " 'USER:  \\\\Write a descriptive caption for the image, highlighting the visible elements and key features.\\nASSISTANT: A large stone sculpture is situated in a lush green field, surrounded by bushes and trees. The sculpture is positioned in the middle of the scene, drawing attention to its artistic and natural setting. The area is filled with various vehicles, including cars and trucks, parked in the vicinity. The combination of the sculpture and the parked vehicles creates a unique and interesting atmosphere in the scene.']"
      ]
     },
     "execution_count": 10,
     "metadata": {},
     "output_type": "execute_result"
    }
   ],
   "source": []
  },
  {
   "cell_type": "code",
   "execution_count": 2,
   "metadata": {},
   "outputs": [],
   "source": [
    "def chunks(lst, n):\n",
    "    for i in range(0, len(lst), n):\n",
    "        yield lst[i:i + n]\n",
    "lst = [1, 2, 3, 4, 5, 6, 7, 8, 9, 10]\n",
    "n = 3\n",
    "k = chunks(lst,n)"
   ]
  },
  {
   "cell_type": "code",
   "execution_count": 3,
   "metadata": {},
   "outputs": [
    {
     "name": "stdout",
     "output_type": "stream",
     "text": [
      "[1, 2, 3]\n",
      "[4, 5, 6]\n",
      "[7, 8, 9]\n",
      "[10]\n"
     ]
    }
   ],
   "source": [
    "for i in k:\n",
    "    print(i)"
   ]
  },
  {
   "cell_type": "code",
   "execution_count": 6,
   "metadata": {},
   "outputs": [
    {
     "data": {
      "text/html": [
       "<div>\n",
       "<style scoped>\n",
       "    .dataframe tbody tr th:only-of-type {\n",
       "        vertical-align: middle;\n",
       "    }\n",
       "\n",
       "    .dataframe tbody tr th {\n",
       "        vertical-align: top;\n",
       "    }\n",
       "\n",
       "    .dataframe thead th {\n",
       "        text-align: right;\n",
       "    }\n",
       "</style>\n",
       "<table border=\"1\" class=\"dataframe\">\n",
       "  <thead>\n",
       "    <tr style=\"text-align: right;\">\n",
       "      <th></th>\n",
       "      <th>/mnt/SSD1/Niantic/data/train/s00164</th>\n",
       "    </tr>\n",
       "  </thead>\n",
       "  <tbody>\n",
       "    <tr>\n",
       "      <th>0</th>\n",
       "      <td>/mnt/SSD1/Niantic/data/train/s00165</td>\n",
       "    </tr>\n",
       "    <tr>\n",
       "      <th>1</th>\n",
       "      <td>/mnt/SSD1/Niantic/data/train/s00166</td>\n",
       "    </tr>\n",
       "    <tr>\n",
       "      <th>2</th>\n",
       "      <td>/mnt/SSD1/Niantic/data/train/s00167</td>\n",
       "    </tr>\n",
       "    <tr>\n",
       "      <th>3</th>\n",
       "      <td>/mnt/SSD1/Niantic/data/train/s00168</td>\n",
       "    </tr>\n",
       "    <tr>\n",
       "      <th>4</th>\n",
       "      <td>/mnt/SSD1/Niantic/data/val/s00494</td>\n",
       "    </tr>\n",
       "    <tr>\n",
       "      <th>...</th>\n",
       "      <td>...</td>\n",
       "    </tr>\n",
       "    <tr>\n",
       "      <th>64</th>\n",
       "      <td>/mnt/SSD1/Niantic/data/val/s00520</td>\n",
       "    </tr>\n",
       "    <tr>\n",
       "      <th>65</th>\n",
       "      <td>/mnt/SSD1/Niantic/data/val/s00521</td>\n",
       "    </tr>\n",
       "    <tr>\n",
       "      <th>66</th>\n",
       "      <td>/mnt/SSD1/Niantic/data/val/s00522</td>\n",
       "    </tr>\n",
       "    <tr>\n",
       "      <th>67</th>\n",
       "      <td>/mnt/SSD1/Niantic/data/val/s00523</td>\n",
       "    </tr>\n",
       "    <tr>\n",
       "      <th>68</th>\n",
       "      <td>/mnt/SSD1/Niantic/data/val/s00524</td>\n",
       "    </tr>\n",
       "  </tbody>\n",
       "</table>\n",
       "<p>69 rows × 1 columns</p>\n",
       "</div>"
      ],
      "text/plain": [
       "    /mnt/SSD1/Niantic/data/train/s00164\n",
       "0   /mnt/SSD1/Niantic/data/train/s00165\n",
       "1   /mnt/SSD1/Niantic/data/train/s00166\n",
       "2   /mnt/SSD1/Niantic/data/train/s00167\n",
       "3   /mnt/SSD1/Niantic/data/train/s00168\n",
       "4     /mnt/SSD1/Niantic/data/val/s00494\n",
       "..                                  ...\n",
       "64    /mnt/SSD1/Niantic/data/val/s00520\n",
       "65    /mnt/SSD1/Niantic/data/val/s00521\n",
       "66    /mnt/SSD1/Niantic/data/val/s00522\n",
       "67    /mnt/SSD1/Niantic/data/val/s00523\n",
       "68    /mnt/SSD1/Niantic/data/val/s00524\n",
       "\n",
       "[69 rows x 1 columns]"
      ]
     },
     "execution_count": 6,
     "metadata": {},
     "output_type": "execute_result"
    }
   ],
   "source": [
    "import pandas as pd\n",
    "pd.read_csv(\"csv/scenes_part_7.csv\")"
   ]
  },
  {
   "cell_type": "code",
   "execution_count": 7,
   "metadata": {},
   "outputs": [],
   "source": [
    "import glob\n",
    "train_scenes = glob.glob(\"/mnt/SSD1/Niantic/data/train/*\")\n",
    "val_scenes = glob.glob(\"/mnt/SSD1/Niantic/data/val/*\")\n",
    "\n",
    "\n",
    "scenes = train_scenes + val_scenes"
   ]
  },
  {
   "cell_type": "code",
   "execution_count": 8,
   "metadata": {},
   "outputs": [
    {
     "data": {
      "text/plain": [
       "525"
      ]
     },
     "execution_count": 8,
     "metadata": {},
     "output_type": "execute_result"
    }
   ],
   "source": [
    "len(scenes)"
   ]
  },
  {
   "cell_type": "code",
   "execution_count": null,
   "metadata": {},
   "outputs": [],
   "source": []
  }
 ],
 "metadata": {
  "kernelspec": {
   "display_name": "caption",
   "language": "python",
   "name": "caption"
  },
  "language_info": {
   "codemirror_mode": {
    "name": "ipython",
    "version": 3
   },
   "file_extension": ".py",
   "mimetype": "text/x-python",
   "name": "python",
   "nbconvert_exporter": "python",
   "pygments_lexer": "ipython3",
   "version": "3.8.19"
  }
 },
 "nbformat": 4,
 "nbformat_minor": 4
}
