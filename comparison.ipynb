{
  "nbformat": 4,
  "nbformat_minor": 0,
  "metadata": {
    "colab": {
      "provenance": []
    },
    "kernelspec": {
      "name": "python3",
      "display_name": "Python 3"
    },
    "language_info": {
      "name": "python"
    }
  },
  "cells": [
    {
      "cell_type": "code",
      "execution_count": null,
      "metadata": {
        "id": "5gUpNVeQuYpA"
      },
      "outputs": [],
      "source": [
        "import tensorflow as tf\n",
        "from tensorboard.backend.event_processing.event_accumulator import EventAccumulator\n",
        "import matplotlib.pyplot as plt"
      ]
    },
    {
      "cell_type": "code",
      "source": [
        "scalar_tag = 'val_vcre/auc_vcre'\n",
        "event_file_path_wgtd = 'weights/dualmapfree_var3_gt_depth_Loss_VCRE_SoftClipping_Curriculum_NullHypothesis_DualSoftmax/version_7/events.out.tfevents.1719325282.104-171-203-233.264304.0'\n",
        "event_acc_wgtd = EventAccumulator(event_file_path_wgtd)\n",
        "event_acc_wgtd.Reload()\n",
        "scalars = event_acc_wgtd.Scalars(scalar_tag)\n",
        "steps_wgtd = [s.step for s in scalars]\n",
        "values_wgtd = [s.value for s in scalars]"
      ],
      "metadata": {
        "id": "RkYj6P5lulA4"
      },
      "execution_count": null,
      "outputs": []
    },
    {
      "cell_type": "code",
      "source": [
        "event_file_path_wgtd = 'weights/dualmapfree_var3_gt_depth_Loss_VCRE_SoftClipping_Curriculum_NullHypothesis_DualSoftmax/version_11/events.out.tfevents.1720023825.104-171-203-54.5608.0'\n",
        "event_acc_wgtd1 = EventAccumulator(event_file_path_wgtd)\n",
        "event_acc_wgtd1.Reload()\n",
        "scalars = event_acc_wgtd1.Scalars(scalar_tag)\n",
        "steps_wgtd1 = [s.step for s in scalars]\n",
        "values_wgtd1 = [s.value for s in scalars]"
      ],
      "metadata": {
        "id": "42q1Itj_uk5s"
      },
      "execution_count": null,
      "outputs": []
    },
    {
      "cell_type": "code",
      "source": [
        "event_file_path_gtd = '/home/ubuntu/MapFree-Illinois/dualmapfree/checkpoints/dualmapfree_gt_depth_var3_Loss_VCRE_SoftClipping_Curriculum_NullHypothesis_DualSoftmax/version_0/events.out.tfevents.1720960706.207-211-166-1.2133503.0'\n",
        "event_acc_gtd1 = EventAccumulator(event_file_path_gtd)\n",
        "event_acc_gtd1.Reload()\n",
        "scalars = event_acc_gtd1.Scalars(scalar_tag)\n",
        "steps_gtd1 = [s.step for s in scalars]\n",
        "values_gtd1 = [s.value for s in scalars]"
      ],
      "metadata": {
        "id": "n2s9E5lSukxo"
      },
      "execution_count": null,
      "outputs": []
    },
    {
      "cell_type": "code",
      "source": [
        "event_file_path_gtd = '/home/ubuntu/MapFree-Illinois/dualmapfree/checkpoints/dualmapfree_gt_depth_var3_Loss_VCRE_SoftClipping_Curriculum_NullHypothesis_DualSoftmax/version_8/events.out.tfevents.1721100817.207-211-166-1.2660642.0'\n",
        "event_acc_gtd2 = EventAccumulator(event_file_path_gtd)\n",
        "event_acc_gtd2.Reload()\n",
        "scalars = event_acc_gtd2.Scalars(scalar_tag)\n",
        "steps_gtd2 = [s.step for s in scalars]\n",
        "values_gtd2 = [s.value for s in scalars]"
      ],
      "metadata": {
        "id": "4zbV4RDKukW4"
      },
      "execution_count": null,
      "outputs": []
    },
    {
      "cell_type": "code",
      "source": [
        "event_file_path_try = 'weights/default_first_try_Loss_VCRE_SoftClipping_Curriculum_NullHypothesis_DualSoftmax/version_8/events.out.tfevents.1718496296.104-171-203-203.62520.0'\n",
        "event_acc_try = EventAccumulator(event_file_path_try)\n",
        "event_acc_try.Reload()\n",
        "scalars = event_acc_try.Scalars(scalar_tag)\n",
        "steps_try = [s.step for s in scalars]\n",
        "values_try = [s.value for s in scalars]"
      ],
      "metadata": {
        "id": "c4CcCtcLuq7O"
      },
      "execution_count": null,
      "outputs": []
    },
    {
      "cell_type": "code",
      "source": [
        "import matplotlib.pyplot as plt\n",
        "plt.figure(figsize=(12, 6))\n",
        "plt.plot(steps_gtd1,values_gtd1, label='current_training', color='blue')\n",
        "plt.plot(steps_gtd2,values_gtd2, label='current_training',color='black')\n",
        "plt.plot(steps_wgtd, values_wgtd, label='wrong_gt_depth', color='red', linestyle='dashed')\n",
        "plt.plot(steps_try, values_try, label='baseline', color='green', linestyle='dotted')\n",
        "\n",
        "plt.xlabel('Steps')\n",
        "plt.ylabel('Value')\n",
        "plt.title('Scalar Plot for val_vcre/auc_vcre and DataFrame Data')\n",
        "plt.legend()\n",
        "plt.grid(True)\n",
        "plt.grid(which='both', linestyle='--', linewidth=0.5)\n",
        "plt.minorticks_on()\n",
        "\n",
        "# Customize the major and minor grid lines\n",
        "plt.grid(which='major', color='gray', linestyle='-', linewidth=0.7)\n",
        "plt.grid(which='minor', color='gray', linestyle=':', linewidth=0.5)\n",
        "plt.show()"
      ],
      "metadata": {
        "id": "M_rEyasWutMU"
      },
      "execution_count": null,
      "outputs": []
    },
    {
      "cell_type": "code",
      "source": [
        "print(event_acc_gtd1.Tags())"
      ],
      "metadata": {
        "id": "KHJ7ypWPuvbv"
      },
      "execution_count": null,
      "outputs": []
    }
  ]
}